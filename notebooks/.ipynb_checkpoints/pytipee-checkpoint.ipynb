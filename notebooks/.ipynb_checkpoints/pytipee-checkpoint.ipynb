{
 "cells": [
  {
   "cell_type": "code",
   "execution_count": 77,
   "metadata": {},
   "outputs": [],
   "source": [
    "\n",
    "import urllib.request\n",
    "import json \n",
    "\n",
    "categories = {\n",
    "    \"other\":\"32\",\n",
    "    \"bd-illustration\":\"33\",\n",
    "    \"movies\":\"34\",\n",
    "    \"food\":\"35\",\n",
    "    \"geek\":\"36\",\n",
    "    \"video-game\":\"38\",\n",
    "    \"humour\":\"37\",\n",
    "    \"journalism\":\"39\",\n",
    "    \"books\":\"40\",\n",
    "    \"fashion\":\"41\",\n",
    "    \"music\":\"42\",\n",
    "    \"photography\":\"43\",\n",
    "    \"science-technology\":\"44\",\n",
    "    \"performing-arts\":\"45\",\n",
    "    \"sports\":\"46\",\n",
    "    \"vlog\":\"47\",\n",
    "    \"streaming\":\"52\"\n",
    "}\n",
    "\n",
    "superheaders = {'User-Agent': 'Mozilla/5.0 (X11; Linux x86_64) AppleWebKit/537.11 (KHTML, like Gecko) Chrome/23.0.1271.64 Safari/537.11',\n",
    "               'Accept': 'text/html,application/xhtml+xml,application/xml;q=0.9,*/*;q=0.8',\n",
    "               'Accept-Charset': 'ISO-8859-1,utf-8;q=0.7,*;q=0.3',\n",
    "               'Accept-Encoding': 'none',\n",
    "               'Accept-Language': 'en-US,en;q=0.8',\n",
    "               'Connection': 'keep-alive'}\n",
    "\n",
    "def show_categories(categories = categories):\n",
    "    \"\"\"\n",
    "    Show list of admissible values for category \n",
    "    \"\"\"\n",
    "    for category in categories.keys():\n",
    "        print(category)\n",
    "        \n",
    "# TO REQUEST ONE SINGLE JSON WEB PAGE\n",
    "def requesting(url, headers = superheaders):\n",
    "    req = urllib.request.Request(url,headers=headers)\n",
    "    response= urllib.request.urlopen(req)\n",
    "    data = response.read()\n",
    "    encoding = response.info().get_content_charset('utf-8')\n",
    "    data = json.loads(data.decode(encoding))\n",
    "    return data"
   ]
  },
  {
   "cell_type": "code",
   "execution_count": 97,
   "metadata": {},
   "outputs": [],
   "source": [
    "class Comment:\n",
    "    \n",
    "    def __init__(self,comment):\n",
    "        self.id = comment['id']\n",
    "        self.time = comment['created_at']\n",
    "        self.author = comment['author']['username']\n",
    "        self.author_id = comment['author']['id']\n",
    "        def __cleanComment(text):\n",
    "            import re \n",
    "            return re.sub('\\n',' ',text)\n",
    "        self.text = comment['body']\n",
    "        \n",
    "    def __repr__(self):\n",
    "        return self.author + '\\n'+ self.text"
   ]
  },
  {
   "cell_type": "code",
   "execution_count": null,
   "metadata": {},
   "outputs": [],
   "source": [
    "class Tipper:\n",
    "    \n",
    "    def __init__(self, username):\n",
    "        self.username = username\n",
    "        "
   ]
  },
  {
   "cell_type": "code",
   "execution_count": 88,
   "metadata": {},
   "outputs": [],
   "source": [
    "class Creator:\n",
    "    \n",
    "    \n",
    "    def __init__(self, user):\n",
    "        \n",
    "        if type(user) == str: \n",
    "            self.username = user\n",
    "            self.data = requesting(\"https://api.tipeee.com/v2.0/projects/{}\".format(user))\n",
    "            self.scraped = True\n",
    "        else: \n",
    "            self.data = user\n",
    "            self.username = user['slug']\n",
    "            self.scraped = False\n",
    "            \n",
    "        self.id = self.data['id']\n",
    "        self.lang = self.data['lang']\n",
    "        self.tipperAmount = self.data['parameters']['tipperAmount']\n",
    "        self.tipperNumber = self.data['parameters']['tipperNumber']\n",
    "        self.newsNumber =   self.data['parameters']['newsNumber']\n",
    "        self.subscription =  self.data['parameters']['activateAt']\n",
    "        self.categories = set(category['slug'] for category in self.data['categories'])\n",
    "        self.comments = list()\n",
    "        self.goals = list()\n",
    "        self.news = list()\n",
    "        \n",
    "        if self.scraped == True:\n",
    "            self.num_comments = int(self.data['thread']['num_comments'])\n",
    "            self.num_rewards = len(self.data['rewards'])\n",
    "            self.num_goals = len(self.data['goals'])\n",
    "        else :\n",
    "            self.num_goals = None \n",
    "            self.num_rewards = None\n",
    "            self.num_comments = None\n",
    "            \n",
    "    def more_info(self): \n",
    "        self = self.__init__(self.username)\n",
    "        \n",
    "        \n",
    "    def visit(self):\n",
    "        import webbrowser\n",
    "        webbrowser.open_new(\"https://en.tipeee.com/{}/\".format(self.username))\n",
    "        \n",
    "    def to_dict(self):\n",
    "        return {\n",
    "            \"id\" : self.id,\n",
    "            \"username\" : self.username ,\n",
    "            \"lang\" : self.lang,\n",
    "            #\"name\" : self.name,\n",
    "            \"tipperAmount\": self.tipperAmount,\n",
    "            \"tipperNumber\" :self.tipperNumber,\n",
    "            \"newsNumber\" : self.newsNumber,\n",
    "            \"subsciption\" :   self.subscription,\n",
    "            \"categories\" : self.categories,\n",
    "            \"num_comments\": self.num_comments,\n",
    "            \"num_goals\": self.num_goals,\n",
    "            \"num_rewards\": self.num_rewards,\n",
    "            \n",
    "        }\n",
    "    \n",
    "    \n",
    "    def get_comments(self):\n",
    "        self.comments = list()\n",
    "        page = '1'\n",
    "        while True:\n",
    "            data = requesting(\"https://api.tipeee.com/v2.0/threads/project_{}?page={}&perPage=150\".format(self.id,page))\n",
    "            for item in data['items'] : \n",
    "                self.comments.append(Comment(item))\n",
    "            try: page = data['pager']['next']\n",
    "            except: break\n",
    "\n",
    "    \n",
    "    def __repr__(self): return str(self.to_dict())\n",
    "\n",
    "    \n",
    "        "
   ]
  },
  {
   "cell_type": "code",
   "execution_count": 89,
   "metadata": {},
   "outputs": [],
   "source": [
    "\n",
    "class Creators:\n",
    "    \n",
    "    def __init__(self, lang='en'):\n",
    "        self.lang = lang\n",
    "        self.scraped =   list()\n",
    "        self.creators = list()\n",
    "        \n",
    "    def __iter__(self):\n",
    "        for elem in self.creators: \n",
    "            yield elem['slug']\n",
    "            \n",
    "    def __len__(self):\n",
    "        return len(self.creators)\n",
    "    \n",
    "    def __repr__(self):\n",
    "        return str(self.creators)\n",
    "        \n",
    "    def scrape(self, limit=None, category=None, headers=superheaders, lang=None):\n",
    "        '''\n",
    "        returns creator in a list \n",
    "\n",
    "       Parameters\n",
    "       ----------\n",
    "           limit : the number of creators to get, if not specified return all authors.\n",
    "                Authors are crawled in the order giben by the site \n",
    "                N.B. if not specified can take some time \n",
    "\n",
    "           category : specifying a category will obtain only authors of that category \n",
    "               N.B. run pytipeee.show_categories() to see admissible vlaues for category\n",
    "       '''    \n",
    "        \n",
    "        def __params_setting(category=category, limit=limit, headers = headers, lang=lang):\n",
    "            if limit != None: assert(type(limit)==int)\n",
    "            if lang not in ['en','de','fr','es','it']: lang = 'en'\n",
    "            mode = 'default'\n",
    "            if category != None:\n",
    "                if category in categories:\n",
    "                    category = '&category='+str(categories[category])\n",
    "                    mode = 'category'\n",
    "                else:\n",
    "                    print('wrong value for category: will not be considered')\n",
    "            else:\n",
    "                category=''\n",
    "            return limit, mode, category, headers, lang\n",
    "        \n",
    "             # PARAMETHERS SETTING\n",
    "        limit, mode ,category, headers, lang = __params_setting(category,limit,headers,lang)\n",
    "        page='1'\n",
    "        base_url = 'https://api.tipeee.com/v2.0/projects?mode={}&page={}&perPage=150&lang={}{}'\n",
    "        creators_list = list()\n",
    "        \n",
    "            #COLLECTING DATA\n",
    "        while len(creators_list) < limit:\n",
    "            data = requesting(base_url.format(mode, page, lang, category), headers) \n",
    "            creators_list += data['items']\n",
    "            try: \n",
    "                page = data['pager']['next']\n",
    "            except: \n",
    "                break\n",
    "        if len(creators_list) >  limit : creators_list = creators_list[:limit]\n",
    "        \n",
    "        self.scraped = creators_list\n",
    "        return creators_list\n",
    "    \n",
    "    \n",
    "    def get_creators(self):\n",
    "        if len(self.scraped) > 0 :\n",
    "            for item in self.scraped:\n",
    "                try :\n",
    "                    self.creators.append(Creator(item))\n",
    "                except: \n",
    "                    print(item)\n",
    "                    break\n",
    "    \n",
    "    \n",
    "    def to_dataframe(self, lang=None):\n",
    "        \"\"\"\n",
    "        return a pandas dataframe \n",
    "        \n",
    "        PARAMS:\n",
    "            lang: chose the lenguage for categories.\n",
    "        \n",
    "        \"\"\"\n",
    "            \n",
    "        if len(self.creators)==0: return \n",
    "        import pandas \n",
    "        columns = ['id','username','lang','categories','tipperAmount','tipperNumber','newsNumber']\n",
    "        df = pandas.DataFrame(columns=columns)\n",
    "        for creator in self.creators:\n",
    "            df = df.append(creator.to_dict(), ignore_index=True)\n",
    "        df.set_index('id',inplace=True)   \n",
    "        \n",
    "        return df\n",
    "        \n",
    "    \n",
    "   \n",
    "        "
   ]
  },
  {
   "cell_type": "code",
   "execution_count": 90,
   "metadata": {},
   "outputs": [
    {
     "data": {
      "text/html": [
       "<div>\n",
       "<style scoped>\n",
       "    .dataframe tbody tr th:only-of-type {\n",
       "        vertical-align: middle;\n",
       "    }\n",
       "\n",
       "    .dataframe tbody tr th {\n",
       "        vertical-align: top;\n",
       "    }\n",
       "\n",
       "    .dataframe thead th {\n",
       "        text-align: right;\n",
       "    }\n",
       "</style>\n",
       "<table border=\"1\" class=\"dataframe\">\n",
       "  <thead>\n",
       "    <tr style=\"text-align: right;\">\n",
       "      <th></th>\n",
       "      <th>username</th>\n",
       "      <th>lang</th>\n",
       "      <th>categories</th>\n",
       "      <th>tipperAmount</th>\n",
       "      <th>tipperNumber</th>\n",
       "      <th>newsNumber</th>\n",
       "      <th>num_comments</th>\n",
       "      <th>num_goals</th>\n",
       "      <th>num_rewards</th>\n",
       "      <th>subsciption</th>\n",
       "    </tr>\n",
       "    <tr>\n",
       "      <th>id</th>\n",
       "      <th></th>\n",
       "      <th></th>\n",
       "      <th></th>\n",
       "      <th></th>\n",
       "      <th></th>\n",
       "      <th></th>\n",
       "      <th></th>\n",
       "      <th></th>\n",
       "      <th></th>\n",
       "      <th></th>\n",
       "    </tr>\n",
       "  </thead>\n",
       "  <tbody>\n",
       "    <tr>\n",
       "      <th>235051</th>\n",
       "      <td>la-renaissance-du-plus-puissant-des-dieux-epei...</td>\n",
       "      <td>en</td>\n",
       "      <td>{art-culture, books}</td>\n",
       "      <td>99</td>\n",
       "      <td>24</td>\n",
       "      <td>304</td>\n",
       "      <td>None</td>\n",
       "      <td>None</td>\n",
       "      <td>None</td>\n",
       "      <td>2020-01-17 05:03:25</td>\n",
       "    </tr>\n",
       "    <tr>\n",
       "      <th>237883</th>\n",
       "      <td>panlong</td>\n",
       "      <td>en</td>\n",
       "      <td>{art-culture, books}</td>\n",
       "      <td>101</td>\n",
       "      <td>21</td>\n",
       "      <td>268</td>\n",
       "      <td>None</td>\n",
       "      <td>None</td>\n",
       "      <td>None</td>\n",
       "      <td>2020-02-24 12:10:27</td>\n",
       "    </tr>\n",
       "    <tr>\n",
       "      <th>188944</th>\n",
       "      <td>misty-lament-projec</td>\n",
       "      <td>en</td>\n",
       "      <td>{books, bd-illustration}</td>\n",
       "      <td>513</td>\n",
       "      <td>17</td>\n",
       "      <td>3</td>\n",
       "      <td>None</td>\n",
       "      <td>None</td>\n",
       "      <td>None</td>\n",
       "      <td>2019-04-16 14:03:33</td>\n",
       "    </tr>\n",
       "    <tr>\n",
       "      <th>239615</th>\n",
       "      <td>world-defying-dan-god</td>\n",
       "      <td>en</td>\n",
       "      <td>{art-culture, books}</td>\n",
       "      <td>22</td>\n",
       "      <td>7</td>\n",
       "      <td>251</td>\n",
       "      <td>None</td>\n",
       "      <td>None</td>\n",
       "      <td>None</td>\n",
       "      <td>2020-03-19 08:04:27</td>\n",
       "    </tr>\n",
       "    <tr>\n",
       "      <th>237881</th>\n",
       "      <td>relachez-cette-sorciere</td>\n",
       "      <td>en</td>\n",
       "      <td>{art-culture, books}</td>\n",
       "      <td>23</td>\n",
       "      <td>5</td>\n",
       "      <td>211</td>\n",
       "      <td>None</td>\n",
       "      <td>None</td>\n",
       "      <td>None</td>\n",
       "      <td>2020-02-24 11:53:30</td>\n",
       "    </tr>\n",
       "  </tbody>\n",
       "</table>\n",
       "</div>"
      ],
      "text/plain": [
       "                                                 username lang  \\\n",
       "id                                                               \n",
       "235051  la-renaissance-du-plus-puissant-des-dieux-epei...   en   \n",
       "237883                                            panlong   en   \n",
       "188944                                misty-lament-projec   en   \n",
       "239615                              world-defying-dan-god   en   \n",
       "237881                            relachez-cette-sorciere   en   \n",
       "\n",
       "                      categories tipperAmount tipperNumber newsNumber  \\\n",
       "id                                                                      \n",
       "235051      {art-culture, books}           99           24        304   \n",
       "237883      {art-culture, books}          101           21        268   \n",
       "188944  {books, bd-illustration}          513           17          3   \n",
       "239615      {art-culture, books}           22            7        251   \n",
       "237881      {art-culture, books}           23            5        211   \n",
       "\n",
       "       num_comments num_goals num_rewards          subsciption  \n",
       "id                                                              \n",
       "235051         None      None        None  2020-01-17 05:03:25  \n",
       "237883         None      None        None  2020-02-24 12:10:27  \n",
       "188944         None      None        None  2019-04-16 14:03:33  \n",
       "239615         None      None        None  2020-03-19 08:04:27  \n",
       "237881         None      None        None  2020-02-24 11:53:30  "
      ]
     },
     "execution_count": 90,
     "metadata": {},
     "output_type": "execute_result"
    }
   ],
   "source": [
    "\"\"\"======TEST======\"\"\"\n",
    "creators = Creators()\n",
    "creators_list = creators.scrape(40,'books')\n",
    "creators.get_creators()\n",
    "df = creators.to_dataframe()\n",
    "df.head()"
   ]
  },
  {
   "cell_type": "code",
   "execution_count": 95,
   "metadata": {},
   "outputs": [
    {
     "data": {
      "text/plain": [
       "[{'author': 'cedric-180', 'text': 'Expansive'},\n",
       " {'author': 'oyatec-suko-tomu',\n",
       "  'text': \"J'adore vraiment son novel.\\nPour vous remercier de le traduire voici un petit tips\"},\n",
       " {'author': 'cedric-180', 'text': 'La force absolue'}]"
      ]
     },
     "execution_count": 95,
     "metadata": {},
     "output_type": "execute_result"
    }
   ],
   "source": [
    "creators.creators[3].comments"
   ]
  },
  {
   "cell_type": "code",
   "execution_count": null,
   "metadata": {},
   "outputs": [],
   "source": [
    "cre"
   ]
  },
  {
   "cell_type": "code",
   "execution_count": 73,
   "metadata": {},
   "outputs": [],
   "source": [
    "#creators.creators[3].visit()\n",
    "creators.creators[3].more_info()"
   ]
  },
  {
   "cell_type": "code",
   "execution_count": 55,
   "metadata": {},
   "outputs": [
    {
     "data": {
      "text/plain": [
       "'world-defying-dan-god'"
      ]
     },
     "execution_count": 55,
     "metadata": {},
     "output_type": "execute_result"
    }
   ],
   "source": [
    "creators.creators[3].username"
   ]
  },
  {
   "cell_type": "code",
   "execution_count": 62,
   "metadata": {},
   "outputs": [
    {
     "data": {
      "text/html": [
       "<div>\n",
       "<style scoped>\n",
       "    .dataframe tbody tr th:only-of-type {\n",
       "        vertical-align: middle;\n",
       "    }\n",
       "\n",
       "    .dataframe tbody tr th {\n",
       "        vertical-align: top;\n",
       "    }\n",
       "\n",
       "    .dataframe thead th {\n",
       "        text-align: right;\n",
       "    }\n",
       "</style>\n",
       "<table border=\"1\" class=\"dataframe\">\n",
       "  <thead>\n",
       "    <tr style=\"text-align: right;\">\n",
       "      <th></th>\n",
       "      <th>username</th>\n",
       "      <th>lang</th>\n",
       "      <th>categories</th>\n",
       "      <th>tipperAmount</th>\n",
       "      <th>tipperNumber</th>\n",
       "      <th>newsNumber</th>\n",
       "      <th>num_comments</th>\n",
       "      <th>num_goals</th>\n",
       "      <th>num_rewards</th>\n",
       "      <th>subsciption</th>\n",
       "    </tr>\n",
       "    <tr>\n",
       "      <th>id</th>\n",
       "      <th></th>\n",
       "      <th></th>\n",
       "      <th></th>\n",
       "      <th></th>\n",
       "      <th></th>\n",
       "      <th></th>\n",
       "      <th></th>\n",
       "      <th></th>\n",
       "      <th></th>\n",
       "      <th></th>\n",
       "    </tr>\n",
       "  </thead>\n",
       "  <tbody>\n",
       "    <tr>\n",
       "      <th>235051</th>\n",
       "      <td>la-renaissance-du-plus-puissant-des-dieux-epei...</td>\n",
       "      <td>en</td>\n",
       "      <td>{art-culture, books}</td>\n",
       "      <td>99</td>\n",
       "      <td>24</td>\n",
       "      <td>304</td>\n",
       "      <td>None</td>\n",
       "      <td>None</td>\n",
       "      <td>None</td>\n",
       "      <td>2020-01-17 05:03:25</td>\n",
       "    </tr>\n",
       "    <tr>\n",
       "      <th>237883</th>\n",
       "      <td>panlong</td>\n",
       "      <td>en</td>\n",
       "      <td>{art-culture, books}</td>\n",
       "      <td>101</td>\n",
       "      <td>21</td>\n",
       "      <td>268</td>\n",
       "      <td>None</td>\n",
       "      <td>None</td>\n",
       "      <td>None</td>\n",
       "      <td>2020-02-24 12:10:27</td>\n",
       "    </tr>\n",
       "    <tr>\n",
       "      <th>188944</th>\n",
       "      <td>misty-lament-projec</td>\n",
       "      <td>en</td>\n",
       "      <td>{books, bd-illustration}</td>\n",
       "      <td>513</td>\n",
       "      <td>17</td>\n",
       "      <td>3</td>\n",
       "      <td>None</td>\n",
       "      <td>None</td>\n",
       "      <td>None</td>\n",
       "      <td>2019-04-16 14:03:33</td>\n",
       "    </tr>\n",
       "    <tr>\n",
       "      <th>239615</th>\n",
       "      <td>world-defying-dan-god</td>\n",
       "      <td>en</td>\n",
       "      <td>{art-culture, books}</td>\n",
       "      <td>22</td>\n",
       "      <td>7</td>\n",
       "      <td>251</td>\n",
       "      <td>None</td>\n",
       "      <td>None</td>\n",
       "      <td>None</td>\n",
       "      <td>2020-03-19 08:04:27</td>\n",
       "    </tr>\n",
       "    <tr>\n",
       "      <th>237881</th>\n",
       "      <td>relachez-cette-sorciere</td>\n",
       "      <td>en</td>\n",
       "      <td>{art-culture, books}</td>\n",
       "      <td>23</td>\n",
       "      <td>5</td>\n",
       "      <td>211</td>\n",
       "      <td>None</td>\n",
       "      <td>None</td>\n",
       "      <td>None</td>\n",
       "      <td>2020-02-24 11:53:30</td>\n",
       "    </tr>\n",
       "  </tbody>\n",
       "</table>\n",
       "</div>"
      ],
      "text/plain": [
       "                                                 username lang  \\\n",
       "id                                                               \n",
       "235051  la-renaissance-du-plus-puissant-des-dieux-epei...   en   \n",
       "237883                                            panlong   en   \n",
       "188944                                misty-lament-projec   en   \n",
       "239615                              world-defying-dan-god   en   \n",
       "237881                            relachez-cette-sorciere   en   \n",
       "\n",
       "                      categories tipperAmount tipperNumber newsNumber  \\\n",
       "id                                                                      \n",
       "235051      {art-culture, books}           99           24        304   \n",
       "237883      {art-culture, books}          101           21        268   \n",
       "188944  {books, bd-illustration}          513           17          3   \n",
       "239615      {art-culture, books}           22            7        251   \n",
       "237881      {art-culture, books}           23            5        211   \n",
       "\n",
       "       num_comments num_goals num_rewards          subsciption  \n",
       "id                                                              \n",
       "235051         None      None        None  2020-01-17 05:03:25  \n",
       "237883         None      None        None  2020-02-24 12:10:27  \n",
       "188944         None      None        None  2019-04-16 14:03:33  \n",
       "239615         None      None        None  2020-03-19 08:04:27  \n",
       "237881         None      None        None  2020-02-24 11:53:30  "
      ]
     },
     "execution_count": 62,
     "metadata": {},
     "output_type": "execute_result"
    }
   ],
   "source": [
    "creators.get_creators()\n",
    "df = creators.to_dataframe()\n",
    "df.head()"
   ]
  },
  {
   "cell_type": "code",
   "execution_count": 159,
   "metadata": {},
   "outputs": [
    {
     "data": {
      "text/html": [
       "<div>\n",
       "<style scoped>\n",
       "    .dataframe tbody tr th:only-of-type {\n",
       "        vertical-align: middle;\n",
       "    }\n",
       "\n",
       "    .dataframe tbody tr th {\n",
       "        vertical-align: top;\n",
       "    }\n",
       "\n",
       "    .dataframe thead th {\n",
       "        text-align: right;\n",
       "    }\n",
       "</style>\n",
       "<table border=\"1\" class=\"dataframe\">\n",
       "  <thead>\n",
       "    <tr style=\"text-align: right;\">\n",
       "      <th></th>\n",
       "      <th>username</th>\n",
       "      <th>lang</th>\n",
       "      <th>categories</th>\n",
       "      <th>tipperAmount</th>\n",
       "      <th>tipperNumber</th>\n",
       "      <th>newsNumber</th>\n",
       "      <th>subsciption</th>\n",
       "    </tr>\n",
       "    <tr>\n",
       "      <th>id</th>\n",
       "      <th></th>\n",
       "      <th></th>\n",
       "      <th></th>\n",
       "      <th></th>\n",
       "      <th></th>\n",
       "      <th></th>\n",
       "      <th></th>\n",
       "    </tr>\n",
       "  </thead>\n",
       "  <tbody>\n",
       "    <tr>\n",
       "      <th>235051</th>\n",
       "      <td>la-renaissance-du-plus-puissant-des-dieux-epei...</td>\n",
       "      <td>en</td>\n",
       "      <td>{books, art-culture}</td>\n",
       "      <td>99</td>\n",
       "      <td>24</td>\n",
       "      <td>304</td>\n",
       "      <td>2020-01-17 05:03:25</td>\n",
       "    </tr>\n",
       "    <tr>\n",
       "      <th>237883</th>\n",
       "      <td>panlong</td>\n",
       "      <td>en</td>\n",
       "      <td>{books, art-culture}</td>\n",
       "      <td>101</td>\n",
       "      <td>21</td>\n",
       "      <td>268</td>\n",
       "      <td>2020-02-24 12:10:27</td>\n",
       "    </tr>\n",
       "    <tr>\n",
       "      <th>188944</th>\n",
       "      <td>misty-lament-projec</td>\n",
       "      <td>en</td>\n",
       "      <td>{books, bd-illustration}</td>\n",
       "      <td>513</td>\n",
       "      <td>17</td>\n",
       "      <td>3</td>\n",
       "      <td>2019-04-16 14:03:33</td>\n",
       "    </tr>\n",
       "    <tr>\n",
       "      <th>239615</th>\n",
       "      <td>world-defying-dan-god</td>\n",
       "      <td>en</td>\n",
       "      <td>{books, art-culture}</td>\n",
       "      <td>22</td>\n",
       "      <td>7</td>\n",
       "      <td>251</td>\n",
       "      <td>2020-03-19 08:04:27</td>\n",
       "    </tr>\n",
       "    <tr>\n",
       "      <th>237881</th>\n",
       "      <td>relachez-cette-sorciere</td>\n",
       "      <td>en</td>\n",
       "      <td>{books, art-culture}</td>\n",
       "      <td>23</td>\n",
       "      <td>5</td>\n",
       "      <td>211</td>\n",
       "      <td>2020-02-24 11:53:30</td>\n",
       "    </tr>\n",
       "  </tbody>\n",
       "</table>\n",
       "</div>"
      ],
      "text/plain": [
       "                                                 username lang  \\\n",
       "id                                                               \n",
       "235051  la-renaissance-du-plus-puissant-des-dieux-epei...   en   \n",
       "237883                                            panlong   en   \n",
       "188944                                misty-lament-projec   en   \n",
       "239615                              world-defying-dan-god   en   \n",
       "237881                            relachez-cette-sorciere   en   \n",
       "\n",
       "                      categories tipperAmount tipperNumber newsNumber  \\\n",
       "id                                                                      \n",
       "235051      {books, art-culture}           99           24        304   \n",
       "237883      {books, art-culture}          101           21        268   \n",
       "188944  {books, bd-illustration}          513           17          3   \n",
       "239615      {books, art-culture}           22            7        251   \n",
       "237881      {books, art-culture}           23            5        211   \n",
       "\n",
       "                subsciption  \n",
       "id                           \n",
       "235051  2020-01-17 05:03:25  \n",
       "237883  2020-02-24 12:10:27  \n",
       "188944  2019-04-16 14:03:33  \n",
       "239615  2020-03-19 08:04:27  \n",
       "237881  2020-02-24 11:53:30  "
      ]
     },
     "execution_count": 159,
     "metadata": {},
     "output_type": "execute_result"
    }
   ],
   "source": [
    "df = creators.to_dataframe()\n",
    "df.head()"
   ]
  },
  {
   "cell_type": "code",
   "execution_count": 76,
   "metadata": {},
   "outputs": [
    {
     "data": {
      "text/plain": [
       "__main__.Creator"
      ]
     },
     "execution_count": 76,
     "metadata": {},
     "output_type": "execute_result"
    }
   ],
   "source": [
    "type(creators.creators[2])"
   ]
  },
  {
   "cell_type": "code",
   "execution_count": 17,
   "metadata": {},
   "outputs": [],
   "source": [
    "def requesting(url, headers = superheaders):\n",
    "    req = urllib.request.Request(url,headers=headers)\n",
    "    response= urllib.request.urlopen(req)\n",
    "    data = response.read()\n",
    "    encoding = response.info().get_content_charset('utf-8')\n",
    "    data = json.loads(data.decode(encoding))\n",
    "    return data"
   ]
  },
  {
   "cell_type": "code",
   "execution_count": 10,
   "metadata": {},
   "outputs": [
    {
     "data": {
      "text/plain": [
       "True"
      ]
     },
     "execution_count": 10,
     "metadata": {},
     "output_type": "execute_result"
    }
   ],
   "source": [
    "import webbrowser\n",
    "webbrowser.open(\"http://youtube.com\", new=1)"
   ]
  },
  {
   "cell_type": "code",
   "execution_count": 18,
   "metadata": {},
   "outputs": [],
   "source": [
    "data = requesting(\"https://api.tipeee.com/v2.0/projects/ladyteruki\")"
   ]
  },
  {
   "cell_type": "code",
   "execution_count": null,
   "metadata": {},
   "outputs": [],
   "source": [
    "\n",
    "cleantext = re.sub(cleanr, '', raw_html)"
   ]
  },
  {
   "cell_type": "code",
   "execution_count": 75,
   "metadata": {},
   "outputs": [
    {
     "name": "stdout",
     "output_type": "stream",
     "text": [
      "<class '__main__.Creator'>\n"
     ]
    },
    {
     "data": {
      "text/plain": [
       "{'id': 268882, 'username': 'roberto-mercadini', 'lang': 'it', 'tipperAmount': 0, 'tipperNumber': '599', 'newsNumber': '1', 'subsciption': '2021-02-11 09:52:40', 'categories': {'art-culture'}, 'num_comments': 126, 'num_goals': 0, 'num_rewards': 6}"
      ]
     },
     "execution_count": 75,
     "metadata": {},
     "output_type": "execute_result"
    }
   ],
   "source": [
    "rm = Creator('roberto-mercadini')\n",
    "print(type(rm))\n",
    "rm"
   ]
  },
  {
   "cell_type": "code",
   "execution_count": 76,
   "metadata": {},
   "outputs": [
    {
     "ename": "NameError",
     "evalue": "name 'self' is not defined",
     "output_type": "error",
     "traceback": [
      "\u001b[1;31m---------------------------------------------------------------------------\u001b[0m",
      "\u001b[1;31mNameError\u001b[0m                                 Traceback (most recent call last)",
      "\u001b[1;32m<ipython-input-76-2312c1158edb>\u001b[0m in \u001b[0;36m<module>\u001b[1;34m\u001b[0m\n\u001b[1;32m----> 1\u001b[1;33m \u001b[0mhelp\u001b[0m\u001b[1;33m(\u001b[0m\u001b[0mtype\u001b[0m\u001b[1;33m(\u001b[0m\u001b[0mself\u001b[0m\u001b[1;33m)\u001b[0m\u001b[1;33m)\u001b[0m\u001b[1;33m\u001b[0m\u001b[1;33m\u001b[0m\u001b[0m\n\u001b[0m",
      "\u001b[1;31mNameError\u001b[0m: name 'self' is not defined"
     ]
    }
   ],
   "source": []
  },
  {
   "cell_type": "code",
   "execution_count": 80,
   "metadata": {},
   "outputs": [
    {
     "ename": "AttributeError",
     "evalue": "'Creator' object has no attribute 'subscription'",
     "output_type": "error",
     "traceback": [
      "\u001b[1;31m---------------------------------------------------------------------------\u001b[0m",
      "\u001b[1;31mAttributeError\u001b[0m                            Traceback (most recent call last)",
      "\u001b[1;32m<ipython-input-80-419e9d8fed26>\u001b[0m in \u001b[0;36m<module>\u001b[1;34m\u001b[0m\n\u001b[1;32m----> 1\u001b[1;33m \u001b[0mdict_rm\u001b[0m \u001b[1;33m=\u001b[0m \u001b[0mrm\u001b[0m\u001b[1;33m.\u001b[0m\u001b[0mto_dict\u001b[0m\u001b[1;33m(\u001b[0m\u001b[1;33m)\u001b[0m\u001b[1;33m\u001b[0m\u001b[1;33m\u001b[0m\u001b[0m\n\u001b[0m\u001b[0;32m      2\u001b[0m \u001b[0mdict_rm\u001b[0m\u001b[1;33m\u001b[0m\u001b[1;33m\u001b[0m\u001b[0m\n",
      "\u001b[1;32m<ipython-input-78-a16ff94a0101>\u001b[0m in \u001b[0;36mto_dict\u001b[1;34m(self)\u001b[0m\n\u001b[0;32m     33\u001b[0m             \u001b[1;34m\"tipperNumber\"\u001b[0m \u001b[1;33m:\u001b[0m\u001b[0mself\u001b[0m\u001b[1;33m.\u001b[0m\u001b[0mtipperNumber\u001b[0m\u001b[1;33m,\u001b[0m\u001b[1;33m\u001b[0m\u001b[1;33m\u001b[0m\u001b[0m\n\u001b[0;32m     34\u001b[0m             \u001b[1;34m\"newsNumber\"\u001b[0m \u001b[1;33m:\u001b[0m \u001b[0mself\u001b[0m\u001b[1;33m.\u001b[0m\u001b[0mnewsNumber\u001b[0m\u001b[1;33m,\u001b[0m\u001b[1;33m\u001b[0m\u001b[1;33m\u001b[0m\u001b[0m\n\u001b[1;32m---> 35\u001b[1;33m             \u001b[1;34m\"subsciption\"\u001b[0m \u001b[1;33m:\u001b[0m   \u001b[0mself\u001b[0m\u001b[1;33m.\u001b[0m\u001b[0msubscription\u001b[0m\u001b[1;33m,\u001b[0m\u001b[1;33m\u001b[0m\u001b[1;33m\u001b[0m\u001b[0m\n\u001b[0m\u001b[0;32m     36\u001b[0m             \u001b[1;34m\"categories\"\u001b[0m \u001b[1;33m:\u001b[0m \u001b[0mself\u001b[0m\u001b[1;33m.\u001b[0m\u001b[0mcategories\u001b[0m\u001b[1;33m\u001b[0m\u001b[1;33m\u001b[0m\u001b[0m\n\u001b[0;32m     37\u001b[0m         }\n",
      "\u001b[1;31mAttributeError\u001b[0m: 'Creator' object has no attribute 'subscription'"
     ]
    }
   ],
   "source": [
    "dict_rm = rm.to_dict()\n",
    "dict_rm"
   ]
  },
  {
   "cell_type": "code",
   "execution_count": 54,
   "metadata": {},
   "outputs": [
    {
     "data": {
      "text/plain": [
       "{'hidedAmount': '0',\n",
       " 'tipperAmount': '365',\n",
       " 'tipperNumber': '26',\n",
       " 'campaign_name': 'mois',\n",
       " 'campaign_type': 'per_month',\n",
       " 'adult_content': '0',\n",
       " 'verification': '1',\n",
       " 'closeDate': False,\n",
       " 'closeAt': False,\n",
       " 'clipeee': 'true',\n",
       " 'activateAt': '2018-12-26 22:34:00',\n",
       " 'disableRecurring': False,\n",
       " 'preCloseAt': False,\n",
       " 'frozenAt': False,\n",
       " 'opeLiveAmount': '0',\n",
       " 'verificationAt': '2018-12-31',\n",
       " 'newsNumber': '220',\n",
       " 'ulule_project': False,\n",
       " 'module_countdown_activated': False,\n",
       " 'module_countdown_title': False,\n",
       " 'module_countdown_description': False,\n",
       " 'module_countdown_ending_time': False,\n",
       " 'module_countdown_icon_id': False,\n",
       " 'module_countdown_image_id': False,\n",
       " 'module_countdown_reward_id': False,\n",
       " 'module_countdown_link': False,\n",
       " 'translations_enabled': False,\n",
       " 'migration_status': '2',\n",
       " 'discussion_activated': '1',\n",
       " 'clipeee_types': False,\n",
       " 'recurring_only': False,\n",
       " 'direct_only': False}"
      ]
     },
     "execution_count": 54,
     "metadata": {},
     "output_type": "execute_result"
    }
   ],
   "source": [
    "data['parameters']"
   ]
  },
  {
   "cell_type": "code",
   "execution_count": 22,
   "metadata": {},
   "outputs": [],
   "source": [
    "import re\n",
    "cleanr = re.compile('<.*?>')\n",
    "data['longtext'] = re.sub(cleanr, '', data['contentv2']['translations']['en']['html'])"
   ]
  },
  {
   "cell_type": "code",
   "execution_count": 23,
   "metadata": {},
   "outputs": [
    {
     "data": {
      "text/plain": [
       "'Qui je suis et quel type de contenu je produis ?Bienvenue sur mon Tipee et merci de me rejoindre pour cette nouvelle aventure.Depuis pas loin de 15 ans je fais... comment disent les jeunes de nos jours ? Ah oui : de la \"création de contenus\", voilà. Eh bien pendant plus d\\'une décennie j\\'ai fait ça sur mon site\\xa0ladyteruki.com, et avant ça je le faisais sur les sites d\\'autres personnes (feu\\xa0SeriesLive.com, par exemple) ou un autre site que j\\'avais et que vous avez sûrement oublié,\\xa0ladyteruki.free.fr. Et puis maintenant je suis sur Twitch, aussi. Donc voilà maintenant un long, long, looooong moment que je fais des choses gratuitement. J\\'écris sur les séries de la planète entière et\\xa0l\\'histoire de la télévision\\xa0(c\\'est ce pour quoi vous me connaissez le mieux, probablement)... ou sur d\\'autres choses qui me passionnent ; ainsi,\\xa0je livestreame aussi des jeux videos.J\\'ai toujours évité les revenus publicitaires (il n\\'y a aucune pub sur\\xa0ladyteruki.com) et les contenus sponsorisés, mais à un moment l\\'éthique est une chose, et le loyer en est une autre.\\xa0Je vais vous dire un secret à propos de la \"création de contenus\" gratuite : ça ne paie pas les factures. Et au fin fond de notre cœur nous le savons tous, sauf qu\\'aucun d\\'entre nous n\\'est volontaire pour donner de l\\'argent si personne n\\'en demande. Eh bien, me voilà à vous demander une contribution (mensuelle) maintenant, et j\\'espère avoir prouvé, au fil des années, que je pouvais mériter votre contribution.Welcome to my Tipeee and thanks for joining me on this new adventure.For almost 15 years now, I have been... how do kids call it these days ? Oh yeah : \"creating content\", right. Well I\\'ve been doing that for over a decade now on my own website\\xa0ladyteruki.com, and before that I used to do it on other people\\'s websites (the late\\xa0SeriesLive.com, for instance) or another website I had and that you probably don\\'t remember,\\xa0ladyteruki.free.fr. And now I\\'m on Twitch, too. So I\\'ve been doing things for free for a long, long, looooong time. I\\'ve been writing on TV shows from all over the world and\\xa0television history\\xa0(that\\'s what you mostly know me for, probably)... or on other things I\\'m passionate about ; indeed I also livestream videogames.I have always refused ad revenues (there are no ads on\\xa0ladyteruki.com) and sponsored content, but at some point, ethics are one thing, and rent is another.\\xa0Here\\'s the secret about \"creating content\" for free : it doesn\\'t pay the bills. And in our heart of hearts we all know that, except none of us really volunteer money if noone is asking for it. Well this is me asking for a (monthly) contribution now, and I hope to have proved, over the years, that I can be worthy of your contribution.Pourquoi suis-je sur Tipeee ?La vérité, c\\'est que les choses vont mal.Parce que \"créer des contenus\" gratuitement, évidemment, ne contribue pas vraiment à améliorer mes finances.Mais aussi parce que, et si vous me suivez sur Twitter ou m\\'écoutez sur Twitch, vous le savez bien, je souffre de stress post-traumatique, dont les manifestations sont aussi amusantes que la dépression, l\\'anxiété, l\\'insomnie, l\\'agoraphobie... ce qui m\\'empêche actuellement de travailler. Or il s\\'avère qu\\'en France, nous avons l\\'un des meilleurs systèmes sociaux au monde... et il est pourri. Pas facile de \"créer des contenus\" quand on ne mange pas régulièrement, quand on ne sait pas comment payer les factures, quand on ne sait pas comment simplement exister sans se couvrir de dettes.Mon espoir, avec ce Tipeee, c\\'est de souffler un peu financièrement, de trouver un peu de stabilité dans mes revenus pour que, quand les choses sont difficiles sur un plan médical, elles ne doivent pas AUSSI l\\'être sur un plan financier.Truth is, things are bad.Because \"creating content\" for free, obviously, doesn\\'t really contribute to improve my finances.But also because, and if you follow me on Twitter or listen to me on Twitch, you know all too well that I suffer from PTSD, which manifests itself through things as fun as depression, anxiety, insomnia, agoraphobia... which doesn\\'t allow me to work at the moment. However it turns out that in France, we have one of the best social systems in the world... and it sucks. It\\'s not easy \"creating content\" when you\\'re not eating regularly, when you don\\'t know how to pay your bills, when you don\\'t know how to exist without drowning in debt.Hopefully with this Tipeee, I\\'ll be able to breathe a bit better financially, finding a bit of stability in my income so that, when things are complicated on a medical level, they don\\'t have to be complicated ALSO on a financial one.Quelles sont les contreparties pour les tipeurs ?On va faire simple.A l\\'heure actuelle, souscrire à mon Tipeee, c\\'est plus un encouragement financier qu\\'autre chose. Je ne suis actuellement pas en mesure de proposer des contenus exclusifs pour chaque tiers, et je ne le souhaite de toute façon\\xa0pas à ce stade.Voici ce que je vous promets\\xa0:- au moins un article par semaine sur\\xa0ladyteruki.com\\xa0(en français)- des livestreams sur Twitch (en anglais)A vous de décider à quel point vous pouvez et voulez me soutenir. Je vous suis reconnaissante dans tous les cas.We\\'re gonna make it simple.At the time being, subscribing to my Tipeee is more financial\\xa0encouragement than anything else. I am currently unable to offer exclusive contents for each tier, and I do not wish to at this stage anyway.Here\\'s what I pledge to you\\xa0:\\xa0- at least one article a week on\\xa0ladyteruki.com\\xa0(in French)- some livestreams on Twitch (in English)It\\'s up to you to decide how much you can and want to support me.\\xa0I am thankful in any case.'"
      ]
     },
     "execution_count": 23,
     "metadata": {},
     "output_type": "execute_result"
    }
   ],
   "source": [
    "data['longtext']"
   ]
  },
  {
   "cell_type": "code",
   "execution_count": 64,
   "metadata": {},
   "outputs": [],
   "source": [
    "def get_creator(item): \n",
    "            return {   \n",
    "                'id' :           item['id'],\n",
    "                'username' :     item['slug'],\n",
    "                'lang' :         item['lang'],\n",
    "                'photo_link' :   item['avatar']['filename'] ,\n",
    "                'tipperAmount' : item['parameters']['tipperAmount'],\n",
    "                'tipperNumber' : item['parameters']['tipperNumber'],\n",
    "                'newsNumber' :   item['parameters']['newsNumber'],\n",
    "                'subsciption' :  item['parameters']['activateAt'],\n",
    "                'categories' :   [category['slug'] for category in item['categories']]\n",
    "            }"
   ]
  },
  {
   "cell_type": "code",
   "execution_count": 65,
   "metadata": {},
   "outputs": [
    {
     "name": "stdout",
     "output_type": "stream",
     "text": [
      "{'id': 177029, 'username': 'ladyteruki', 'lang': 'en', 'photo_link': '202101015fee7bd73be18.png', 'tipperAmount': '365', 'tipperNumber': '26', 'newsNumber': '220', 'subsciption': '2018-12-26 22:34:00', 'categories': ['art-culture', 'movies']}\n"
     ]
    }
   ],
   "source": [
    "print(get_creator(data))"
   ]
  },
  {
   "cell_type": "code",
   "execution_count": null,
   "metadata": {},
   "outputs": [],
   "source": []
  }
 ],
 "metadata": {
  "kernelspec": {
   "display_name": "Python 3",
   "language": "python",
   "name": "python3"
  },
  "language_info": {
   "codemirror_mode": {
    "name": "ipython",
    "version": 3
   },
   "file_extension": ".py",
   "mimetype": "text/x-python",
   "name": "python",
   "nbconvert_exporter": "python",
   "pygments_lexer": "ipython3",
   "version": "3.7.10"
  }
 },
 "nbformat": 4,
 "nbformat_minor": 4
}
